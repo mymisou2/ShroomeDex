version https://git-lfs.github.com/spec/v1
oid sha256:45b51a5d88cecea674925769feb943eeaa228127512455bb71df173a504c138e
size 1422599
