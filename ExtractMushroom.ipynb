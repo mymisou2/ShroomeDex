version https://git-lfs.github.com/spec/v1
oid sha256:3fac8a44bde0ff377e95b1afb2e4c501ae361ab90a2909fe4a860d13efa90602
size 329373
